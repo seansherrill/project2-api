{
 "cells": [
  {
   "cell_type": "markdown",
   "metadata": {},
   "source": [
    "# Project 2: Web Scraping and API access"
   ]
  },
  {
   "cell_type": "code",
   "execution_count": 1,
   "metadata": {},
   "outputs": [
    {
     "name": "stdout",
     "output_type": "stream",
     "text": [
      "Requirement already satisfied: beautifulsoup4 in c:\\users\\lucia\\anaconda3\\lib\\site-packages (4.12.2)\n",
      "Requirement already satisfied: soupsieve>1.2 in c:\\users\\lucia\\anaconda3\\lib\\site-packages (from beautifulsoup4) (2.4)\n"
     ]
    }
   ],
   "source": [
    "!pip install beautifulsoup4"
   ]
  },
  {
   "cell_type": "markdown",
   "metadata": {},
   "source": [
    "## Part 1: Explore the html for Wikipedia articles. "
   ]
  },
  {
   "cell_type": "markdown",
   "metadata": {},
   "source": [
    "### A. Using inspect element, copy the html code for a table.\n",
    "\n",
    "##### Wikipedia page I chose: https://en.wikipedia.org/wiki/Doughnut\n",
    "\n",
    "<table class=\"wikitable\">\n",
    "<thead>\n",
    "<tr>\n",
    "<th>Type</th>\n",
    "<th>Serving size</th>\n",
    "<th>Calories</th>\n",
    "<th>Sugar (g)</th>\n",
    "<th>Fat (g)</th>\n",
    "</tr>\n",
    "</thead>\n",
    "<tbody>\n",
    "<tr>\n",
    "<td>Glazed</td>\n",
    "<td>52 g</td>\n",
    "<td>190</td>\n",
    "<td>10</td>\n",
    "<td>11</td>\n",
    "</tr>\n",
    "<tr>\n",
    "<td>Chocolate Frosted</td>\n",
    "<td>52 g</td>\n",
    "<td>250</td>\n",
    "<td>13</td>\n",
    "<td>14</td>\n",
    "</tr>\n",
    "<tr>\n",
    "<td>Cream-filled</td>\n",
    "<td>76 g</td>\n",
    "<td>340</td>\n",
    "<td>23</td>\n",
    "<td>20</td>\n",
    "</tr>\n",
    "</tbody>\n",
    "</table>"
   ]
  },
  {
   "cell_type": "markdown",
   "metadata": {},
   "source": [
    "### B. Using inspect element, find the html syntax for a link. \n",
    "\n",
    "<a href=\"/wiki/Coffee\" title=\"Coffee\">coffee</a>"
   ]
  },
  {
   "cell_type": "markdown",
   "metadata": {},
   "source": [
    "### C. Using inspect element, find the html syntax for linking an image\n",
    "\n",
    "<img alt=\"A glazed ring doughnut\" src=\"//upload.wikimedia.org/wikipedia/commons/thumb/b/bd/Glazed-Donut.jpg/220px-Glazed-Donut.jpg\" decoding=\"async\" width=\"220\" height=\"163\" class=\"thumbimage\">"
   ]
  },
  {
   "cell_type": "markdown",
   "metadata": {},
   "source": [
    "## Part 2: Explore one Wikipedia page with the beautifulsoup package"
   ]
  },
  {
   "cell_type": "code",
   "execution_count": 4,
   "metadata": {},
   "outputs": [],
   "source": [
    "import bs4\n",
    "import requests\n",
    "import pandas as pd"
   ]
  },
  {
   "cell_type": "code",
   "execution_count": 2,
   "metadata": {},
   "outputs": [],
   "source": [
    "#save and print the text content of a page with all tags removed"
   ]
  },
  {
   "cell_type": "code",
   "execution_count": null,
   "metadata": {},
   "outputs": [],
   "source": [
    "#download an image with beautifulsoup and save it in this repository"
   ]
  },
  {
   "cell_type": "code",
   "execution_count": null,
   "metadata": {},
   "outputs": [],
   "source": [
    "#find all the links in a page with beautifulsoup\n",
    "#print the first 100 characters of ten of these links"
   ]
  },
  {
   "cell_type": "markdown",
   "metadata": {},
   "source": [
    "## Part 3: Downloading scripts"
   ]
  },
  {
   "cell_type": "code",
   "execution_count": 5,
   "metadata": {},
   "outputs": [],
   "source": [
    "scripts=pd.read_csv('pudding_data.csv')"
   ]
  },
  {
   "cell_type": "code",
   "execution_count": 6,
   "metadata": {},
   "outputs": [
    {
     "data": {
      "text/html": [
       "<div>\n",
       "<style scoped>\n",
       "    .dataframe tbody tr th:only-of-type {\n",
       "        vertical-align: middle;\n",
       "    }\n",
       "\n",
       "    .dataframe tbody tr th {\n",
       "        vertical-align: top;\n",
       "    }\n",
       "\n",
       "    .dataframe thead th {\n",
       "        text-align: right;\n",
       "    }\n",
       "</style>\n",
       "<table border=\"1\" class=\"dataframe\">\n",
       "  <thead>\n",
       "    <tr style=\"text-align: right;\">\n",
       "      <th></th>\n",
       "      <th>imdb_id</th>\n",
       "      <th>script_id</th>\n",
       "      <th>title</th>\n",
       "      <th>year</th>\n",
       "      <th>gross (inflation-adjusted)</th>\n",
       "      <th>link</th>\n",
       "    </tr>\n",
       "  </thead>\n",
       "  <tbody>\n",
       "    <tr>\n",
       "      <th>0</th>\n",
       "      <td>tt0019777</td>\n",
       "      <td>4031</td>\n",
       "      <td>The Cocoanuts</td>\n",
       "      <td>1929</td>\n",
       "      <td>NaN</td>\n",
       "      <td>http://www.pages.drexel.edu/~ina22/splaylib/Sc...</td>\n",
       "    </tr>\n",
       "    <tr>\n",
       "      <th>1</th>\n",
       "      <td>tt0021884</td>\n",
       "      <td>8521</td>\n",
       "      <td>Frankenstein</td>\n",
       "      <td>1931</td>\n",
       "      <td>298.0</td>\n",
       "      <td>Frankenstein (Florey &amp; Fort) [1931-5-23] [Scan...</td>\n",
       "    </tr>\n",
       "    <tr>\n",
       "      <th>2</th>\n",
       "      <td>tt0022054</td>\n",
       "      <td>1086</td>\n",
       "      <td>The Last Flight</td>\n",
       "      <td>1931</td>\n",
       "      <td>NaN</td>\n",
       "      <td>film_20100519/all_imsdb_05_19_10/Last-Flight,-...</td>\n",
       "    </tr>\n",
       "    <tr>\n",
       "      <th>3</th>\n",
       "      <td>tt0022626</td>\n",
       "      <td>1631</td>\n",
       "      <td>American Madness</td>\n",
       "      <td>1932</td>\n",
       "      <td>NaN</td>\n",
       "      <td>http://www.imsdb.com/Movie Scripts/American Ma...</td>\n",
       "    </tr>\n",
       "    <tr>\n",
       "      <th>4</th>\n",
       "      <td>tt0022958</td>\n",
       "      <td>2438</td>\n",
       "      <td>Grand Hotel</td>\n",
       "      <td>1932</td>\n",
       "      <td>NaN</td>\n",
       "      <td>http://www.imsdb.com/Movie Scripts/Grand Hotel...</td>\n",
       "    </tr>\n",
       "    <tr>\n",
       "      <th>...</th>\n",
       "      <td>...</td>\n",
       "      <td>...</td>\n",
       "      <td>...</td>\n",
       "      <td>...</td>\n",
       "      <td>...</td>\n",
       "      <td>...</td>\n",
       "    </tr>\n",
       "    <tr>\n",
       "      <th>1995</th>\n",
       "      <td>tt3733778</td>\n",
       "      <td>8533</td>\n",
       "      <td>Pay the Ghost</td>\n",
       "      <td>2015</td>\n",
       "      <td>NaN</td>\n",
       "      <td>Pay The Ghost (Dan Kay, 9-1-09).pdf</td>\n",
       "    </tr>\n",
       "    <tr>\n",
       "      <th>1996</th>\n",
       "      <td>tt3808342</td>\n",
       "      <td>5499</td>\n",
       "      <td>Son of Saul</td>\n",
       "      <td>2015</td>\n",
       "      <td>0.0</td>\n",
       "      <td>http://gointothestory.blcklst.com/wp-content/u...</td>\n",
       "    </tr>\n",
       "    <tr>\n",
       "      <th>1997</th>\n",
       "      <td>tt3850214</td>\n",
       "      <td>8056</td>\n",
       "      <td>Dope</td>\n",
       "      <td>2015</td>\n",
       "      <td>18.0</td>\n",
       "      <td>Dope (2013.10.31) [Digital].pdf</td>\n",
       "    </tr>\n",
       "    <tr>\n",
       "      <th>1998</th>\n",
       "      <td>tt3859076</td>\n",
       "      <td>5507</td>\n",
       "      <td>Truth</td>\n",
       "      <td>2015</td>\n",
       "      <td>2.0</td>\n",
       "      <td>http://gointothestory.blcklst.com/wp-content/u...</td>\n",
       "    </tr>\n",
       "    <tr>\n",
       "      <th>1999</th>\n",
       "      <td>tt4270516</td>\n",
       "      <td>5410</td>\n",
       "      <td>Grandma</td>\n",
       "      <td>2015</td>\n",
       "      <td>7.0</td>\n",
       "      <td>http://gointothestory.blcklst.com/wp-content/u...</td>\n",
       "    </tr>\n",
       "  </tbody>\n",
       "</table>\n",
       "<p>2000 rows × 6 columns</p>\n",
       "</div>"
      ],
      "text/plain": [
       "        imdb_id  script_id             title  year  \\\n",
       "0     tt0019777       4031     The Cocoanuts  1929   \n",
       "1     tt0021884       8521      Frankenstein  1931   \n",
       "2     tt0022054       1086   The Last Flight  1931   \n",
       "3     tt0022626       1631  American Madness  1932   \n",
       "4     tt0022958       2438       Grand Hotel  1932   \n",
       "...         ...        ...               ...   ...   \n",
       "1995  tt3733778       8533     Pay the Ghost  2015   \n",
       "1996  tt3808342       5499       Son of Saul  2015   \n",
       "1997  tt3850214       8056              Dope  2015   \n",
       "1998  tt3859076       5507             Truth  2015   \n",
       "1999  tt4270516       5410           Grandma  2015   \n",
       "\n",
       "      gross (inflation-adjusted)  \\\n",
       "0                            NaN   \n",
       "1                          298.0   \n",
       "2                            NaN   \n",
       "3                            NaN   \n",
       "4                            NaN   \n",
       "...                          ...   \n",
       "1995                         NaN   \n",
       "1996                         0.0   \n",
       "1997                        18.0   \n",
       "1998                         2.0   \n",
       "1999                         7.0   \n",
       "\n",
       "                                                   link  \n",
       "0     http://www.pages.drexel.edu/~ina22/splaylib/Sc...  \n",
       "1     Frankenstein (Florey & Fort) [1931-5-23] [Scan...  \n",
       "2     film_20100519/all_imsdb_05_19_10/Last-Flight,-...  \n",
       "3     http://www.imsdb.com/Movie Scripts/American Ma...  \n",
       "4     http://www.imsdb.com/Movie Scripts/Grand Hotel...  \n",
       "...                                                 ...  \n",
       "1995                Pay The Ghost (Dan Kay, 9-1-09).pdf  \n",
       "1996  http://gointothestory.blcklst.com/wp-content/u...  \n",
       "1997                    Dope (2013.10.31) [Digital].pdf  \n",
       "1998  http://gointothestory.blcklst.com/wp-content/u...  \n",
       "1999  http://gointothestory.blcklst.com/wp-content/u...  \n",
       "\n",
       "[2000 rows x 6 columns]"
      ]
     },
     "execution_count": 6,
     "metadata": {},
     "output_type": "execute_result"
    }
   ],
   "source": [
    "scripts"
   ]
  },
  {
   "cell_type": "code",
   "execution_count": null,
   "metadata": {},
   "outputs": [],
   "source": [
    "#using the links in the \"link\" column, download the first 1000 characters of each script\n",
    "#use requests and bs4, remember to remove all html tags"
   ]
  },
  {
   "cell_type": "code",
   "execution_count": null,
   "metadata": {},
   "outputs": [],
   "source": [
    "#add a new column to the df with the text downloaded\n",
    "#save this new dataframe as \"pudding_texts.csv\""
   ]
  },
  {
   "cell_type": "markdown",
   "metadata": {},
   "source": [
    "## Part 4: TMDB database"
   ]
  },
  {
   "cell_type": "markdown",
   "metadata": {},
   "source": [
    "#### Browse the documentation at https://developer.themoviedb.org/reference/intro/getting-started. Create an account to authenticate"
   ]
  },
  {
   "cell_type": "code",
   "execution_count": null,
   "metadata": {},
   "outputs": [],
   "source": [
    "#create a dataset of the movies in theaters now. Include metadata fields you are interested in. "
   ]
  },
  {
   "cell_type": "code",
   "execution_count": null,
   "metadata": {},
   "outputs": [],
   "source": [
    "#download the movie posters for 10 of these movies and save them to this repository"
   ]
  }
 ],
 "metadata": {
  "kernelspec": {
   "display_name": "Python 3",
   "language": "python",
   "name": "python3"
  },
  "language_info": {
   "codemirror_mode": {
    "name": "ipython",
    "version": 3
   },
   "file_extension": ".py",
   "mimetype": "text/x-python",
   "name": "python",
   "nbconvert_exporter": "python",
   "pygments_lexer": "ipython3",
   "version": "3.11.10"
  }
 },
 "nbformat": 4,
 "nbformat_minor": 2
}
